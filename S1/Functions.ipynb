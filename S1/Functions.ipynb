{
 "cells": [
  {
   "cell_type": "code",
   "execution_count": 1,
   "metadata": {
    "vscode": {
     "languageId": "python"
    }
   },
   "outputs": [],
   "source": [
    "## FECHA           : 13 de Marzo 2025\n",
    "## TITULO          : FUNCIONES EN PYTHON\n",
    "## NOTEBOOK        : Ing. Julio César Martínez\n",
    "## SPRINT OBJETIVO : No 2 \n",
    "#--------------------------------------------------------------\n",
    "## OBJETIVO GENERAL : \n",
    "# - Entender el desarrollo de funciones en Python\n",
    "# - Profundizar en las características de una función en Python\n",
    "# - Aprender a desarrollar funciones por cuenta propia\n",
    "# - Reconocer el los tipos de funciones en Python\n",
    "#---------------------------------------------------------------\n"
   ]
  },
  {
   "cell_type": "markdown",
   "metadata": {},
   "source": [
    "# Funciones en Python\n",
    "---"
   ]
  },
  {
   "cell_type": "markdown",
   "metadata": {},
   "source": [
    "Las funciones en Python son bloques de código reutilizables que realizan una tarea específica. Permiten estructurar mejor el código, reducir la repetición y mejorar la legibilidad. En otras palabras, es una forma de automatizar algun proceso repetitivo a nivel de código."
   ]
  },
  {
   "cell_type": "markdown",
   "metadata": {},
   "source": [
    "## Pasos para Definir una Funcion"
   ]
  },
  {
   "cell_type": "markdown",
   "metadata": {},
   "source": [
    "### 1. Definir una Funcióm"
   ]
  },
  {
   "cell_type": "code",
   "execution_count": 2,
   "metadata": {
    "vscode": {
     "languageId": "python"
    }
   },
   "outputs": [],
   "source": [
    "# Para definir una función usamos el prefijo def\n",
    "def saludar():\n",
    "    print('')"
   ]
  },
  {
   "cell_type": "markdown",
   "metadata": {},
   "source": [
    "- Llamar / Imprimir una función"
   ]
  },
  {
   "cell_type": "code",
   "execution_count": null,
   "metadata": {
    "vscode": {
     "languageId": "python"
    }
   },
   "outputs": [],
   "source": [
    "saludar()"
   ]
  },
  {
   "cell_type": "markdown",
   "metadata": {},
   "source": [
    "### 2. Funciones con Parámetros"
   ]
  },
  {
   "cell_type": "markdown",
   "metadata": {},
   "source": [
    "Los parámetros permiten que las funciones reciban datos externos."
   ]
  },
  {
   "cell_type": "code",
   "execution_count": 4,
   "metadata": {
    "vscode": {
     "languageId": "python"
    }
   },
   "outputs": [],
   "source": [
    "# Funcion con parámetros\n",
    "def saludar(nombre, edad):\n",
    "    print(f\"Hola! mi nombre es {nombre}, y tengo {edad} años. Saludos!!\")"
   ]
  },
  {
   "cell_type": "code",
   "execution_count": null,
   "metadata": {
    "vscode": {
     "languageId": "python"
    }
   },
   "outputs": [],
   "source": [
    "# Llamar a la función\n",
    "saludar()"
   ]
  },
  {
   "cell_type": "markdown",
   "metadata": {},
   "source": [
    "Se pueden asignar valores predeterminados a las funciones"
   ]
  },
  {
   "cell_type": "code",
   "execution_count": null,
   "metadata": {
    "vscode": {
     "languageId": "python"
    }
   },
   "outputs": [],
   "source": [
    "# Asignar valores predeterminados a una función\n",
    "def saludar(nombre= , edad= ):\n",
    "    print(f\"Hola! mi nombre es {nombre}, y tengo {edad} años. Saludos!!\")"
   ]
  },
  {
   "cell_type": "code",
   "execution_count": null,
   "metadata": {
    "vscode": {
     "languageId": "python"
    }
   },
   "outputs": [],
   "source": [
    "# Llamar a la funció\n",
    "saludar()"
   ]
  },
  {
   "cell_type": "markdown",
   "metadata": {},
   "source": [
    "### 3. Funciones con Retorno"
   ]
  },
  {
   "cell_type": "markdown",
   "metadata": {},
   "source": [
    "El `return` permite devolver un valor desde una función."
   ]
  },
  {
   "cell_type": "code",
   "execution_count": 8,
   "metadata": {
    "vscode": {
     "languageId": "python"
    }
   },
   "outputs": [],
   "source": [
    "# Definir función para sumar\n",
    "def sumar():\n",
    "    return"
   ]
  },
  {
   "cell_type": "code",
   "execution_count": null,
   "metadata": {
    "vscode": {
     "languageId": "python"
    }
   },
   "outputs": [],
   "source": [
    "# Llamar a la funcion\n",
    "resultado = sumar()\n",
    "print(resultado)"
   ]
  },
  {
   "cell_type": "markdown",
   "metadata": {},
   "source": [
    "### 4. Funciones con Múltiples Retornos"
   ]
  },
  {
   "cell_type": "markdown",
   "metadata": {},
   "source": [
    "Se pueden retornar múltiples valores usando tuplas."
   ]
  },
  {
   "cell_type": "code",
   "execution_count": null,
   "metadata": {
    "vscode": {
     "languageId": "python"
    }
   },
   "outputs": [],
   "source": [
    "# Definir funcion\n",
    "def operaciones():\n",
    "    suma = \n",
    "    resta =\n",
    "    return\n",
    "\n",
    "# Llamar a la función\n",
    "\n"
   ]
  },
  {
   "cell_type": "markdown",
   "metadata": {},
   "source": [
    "### 5. Funciones con Argumentos Arbitrarios (*args)(**kwargs)"
   ]
  },
  {
   "cell_type": "markdown",
   "metadata": {},
   "source": [
    "- `*args` permite recibir múltiples argumentos como una tupla.\n",
    "\n",
    "- `**kwargs` permite recibir múltiples argumentos con nombre en un diccionario."
   ]
  },
  {
   "cell_type": "code",
   "execution_count": null,
   "metadata": {
    "vscode": {
     "languageId": "python"
    }
   },
   "outputs": [],
   "source": [
    "# Definir funcion de sumar\n",
    "def suma():\n",
    "    return \n",
    "\n",
    "\n",
    "# Definir funcion para procesar datos\n",
    "def mostrar_info(**datos):\n",
    "    \n",
    "\n",
    "\n",
    "# Llamado a la funcion\n",
    "mostrar_info(nombre=\"Ana\", edad=30, ciudad=\"CDMX\")\n",
    "\n"
   ]
  },
  {
   "cell_type": "markdown",
   "metadata": {},
   "source": [
    "### 6.Funciones Lambda"
   ]
  },
  {
   "cell_type": "markdown",
   "metadata": {},
   "source": [
    "Son funciones cortas y sin nombre, definidas con lambda."
   ]
  },
  {
   "cell_type": "code",
   "execution_count": null,
   "metadata": {
    "vscode": {
     "languageId": "python"
    }
   },
   "outputs": [],
   "source": [
    "multiplicar = \n"
   ]
  },
  {
   "cell_type": "markdown",
   "metadata": {},
   "source": [
    "# Practicar\n",
    "---"
   ]
  },
  {
   "cell_type": "markdown",
   "metadata": {},
   "source": [
    "Extracción de valores de una lista con funciones"
   ]
  },
  {
   "cell_type": "code",
   "execution_count": null,
   "metadata": {
    "vscode": {
     "languageId": "python"
    }
   },
   "outputs": [],
   "source": [
    "# Funcion para extraer información de filas\n",
    "\n",
    "def print_movie_info():\n",
    "    # Extraer el nombre de la pelicula\n",
    "\n",
    "    # Extraer el año\n",
    "\n",
    "    # Extraer genero \n",
    "\n",
    "    # Imprimir la información\n",
    "\n",
    "\n",
    "# Llamar a la función\n",
    "movies_info = ['The Shawshank Redemption  ', 'USA', 1994, 'drama', 142, 9.111]\n",
    "\n",
    "print_movie_info()"
   ]
  },
  {
   "cell_type": "markdown",
   "metadata": {},
   "source": [
    "Hagamos lo mismo pero usando parámetros"
   ]
  },
  {
   "cell_type": "code",
   "execution_count": null,
   "metadata": {
    "vscode": {
     "languageId": "python"
    }
   },
   "outputs": [],
   "source": [
    "# Funcion con parámetros\n",
    "\n",
    "def print_movie_info():\n",
    "    # Extraer el nombre de la pelicula\n",
    "\n",
    "    # Extraer el año\n",
    "\n",
    "    # Extraer genero \n",
    "\n",
    "    # Imprimir la información\n",
    "\n",
    "\n",
    "movies_info = ['  The Shawshank Redemption  ', 'USA', 1994, 'drama', 142, 9.111]\n",
    "\n",
    "print_movie_info()"
   ]
  },
  {
   "cell_type": "markdown",
   "metadata": {},
   "source": [
    "Extraer valores de una lista con bucles"
   ]
  },
  {
   "cell_type": "code",
   "execution_count": null,
   "metadata": {
    "vscode": {
     "languageId": "python"
    }
   },
   "outputs": [],
   "source": [
    "# esta función imprime la tabla filtrada\n",
    "def print_movie_info():\n",
    "\n",
    "\n",
    "# filtrar pelicula por año\n",
    "def filter_by_year():\n",
    "\n",
    "\n",
    "\n",
    "movies_info = [\n",
    "    ['The Shawshank Redemption', 'USA', 1994, 'drama', 142, 9.111],\n",
    "    ['The Godfather', 'USA', 1972, 'drama, crime', 175, 8.730],\n",
    "    ['The Dark Knight', 'USA', 2008, 'fantasy, action, thriller', 152, 8.499],\n",
    "    [\"Schindler's List\", 'USA', 1993, 'drama', 195, 8.818],\n",
    "    ['The Lord of the Rings: The Return of the King', 'New Zealand', 2003, 'fantasy, adventure, drama', 201, 8.625],\n",
    "    ['Pulp Fiction', 'USA', 1994, 'thriller, comedy, crime', 154, 8.619],\n",
    "    ['The Good, the Bad and the Ugly', 'Italy', 1966, 'western', 178, 8.521],\n",
    "    ['Fight Club', 'USA', 1999, 'thriller, drama, crime', 139, 8.644],\n",
    "    ['Harakiri', 'Japan', 1962, 'drama, action, history', 133, 8.106],\n",
    "    ['Good Will Hunting', 'USA', 1997, 'drama, romance', 126, 8.077]\n",
    "]\n",
    "\n",
    "# Llamar segunda funcion\n",
    "movies_filtered =\n",
    "\n",
    "# Llamar primera funcion\n",
    "print_movie_info()"
   ]
  },
  {
   "cell_type": "markdown",
   "metadata": {},
   "source": [
    "Reemplacemos todo con parámetros"
   ]
  },
  {
   "cell_type": "code",
   "execution_count": null,
   "metadata": {
    "vscode": {
     "languageId": "python"
    }
   },
   "outputs": [],
   "source": [
    "# Haz lo anterior reemplazando con parámetros\n",
    "\n"
   ]
  }
 ],
 "metadata": {
  "language_info": {
   "name": "plaintext"
  }
 },
 "nbformat": 4,
 "nbformat_minor": 2
}
